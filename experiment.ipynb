{
 "cells": [
  {
   "cell_type": "code",
   "execution_count": 7,
   "metadata": {},
   "outputs": [],
   "source": [
    "import pandas as pd\n",
    "import numpy as np\n",
    "import os\n",
    "import matplotlib.pyplot as plt\n",
    "SIZE_LIMIT =  5000000 # this bumber is in bytes"
   ]
  },
  {
   "cell_type": "code",
   "execution_count": 10,
   "metadata": {},
   "outputs": [
    {
     "name": "stdout",
     "output_type": "stream",
     "text": [
      "hello world\n",
      "helllo everyone!!\n",
      "this is my first blog\n",
      "hey guys this is my second blog!\n",
      "shubhanshuu mishra\n"
     ]
    },
    {
     "data": {
      "text/plain": [
       "['hello world',\n",
       " 'helllo everyone!!<br>this is my first blog',\n",
       " 'hey guys this is my second blog!<br>shubhanshuu mishra']"
      ]
     },
     "execution_count": 10,
     "metadata": {},
     "output_type": "execute_result"
    }
   ],
   "source": [
    "counter = int(open(\"counter.txt\", \"r\").readlines()[0])\n",
    "final_list = []\n",
    "for i in range(counter):\n",
    "        dataframe = pd.read_csv(\"{}.csv\".format(i+1))\n",
    "        for i in list(dataframe['blog']):\n",
    "            print(i)\n",
    "            i = i.replace(\"\\r\\n\",\"<br>\")\n",
    "            final_list.append(i)\n",
    "\n",
    "final_list"
   ]
  },
  {
   "cell_type": "code",
   "execution_count": null,
   "metadata": {},
   "outputs": [],
   "source": []
  },
  {
   "cell_type": "code",
   "execution_count": 8,
   "metadata": {},
   "outputs": [],
   "source": [
    "x = {\"blog\":['test blog','shubhanshu mishra', \"gama delta\"]}\n",
    "data_1 = pd.DataFrame(x)\n",
    "data_1.to_csv(\"personal_thoughts.csv\")"
   ]
  },
  {
   "cell_type": "code",
   "execution_count": 27,
   "metadata": {},
   "outputs": [],
   "source": [
    "data1  = pd.read_csv(\"personal_thoughts.csv\")"
   ]
  },
  {
   "cell_type": "code",
   "execution_count": 28,
   "metadata": {},
   "outputs": [],
   "source": [
    "data_frame = pd.DataFrame(['hello world'], columns =['blog'])"
   ]
  },
  {
   "cell_type": "code",
   "execution_count": 30,
   "metadata": {},
   "outputs": [
    {
     "name": "stderr",
     "output_type": "stream",
     "text": [
      "C:\\Users\\hp\\AppData\\Local\\Temp\\ipykernel_13512\\2706227200.py:1: FutureWarning: The frame.append method is deprecated and will be removed from pandas in a future version. Use pandas.concat instead.\n",
      "  data1.append(data_frame)\n"
     ]
    },
    {
     "data": {
      "text/html": [
       "<div>\n",
       "<style scoped>\n",
       "    .dataframe tbody tr th:only-of-type {\n",
       "        vertical-align: middle;\n",
       "    }\n",
       "\n",
       "    .dataframe tbody tr th {\n",
       "        vertical-align: top;\n",
       "    }\n",
       "\n",
       "    .dataframe thead th {\n",
       "        text-align: right;\n",
       "    }\n",
       "</style>\n",
       "<table border=\"1\" class=\"dataframe\">\n",
       "  <thead>\n",
       "    <tr style=\"text-align: right;\">\n",
       "      <th></th>\n",
       "      <th>Unnamed: 0</th>\n",
       "      <th>blog</th>\n",
       "    </tr>\n",
       "  </thead>\n",
       "  <tbody>\n",
       "    <tr>\n",
       "      <th>0</th>\n",
       "      <td>0.0</td>\n",
       "      <td>test blog</td>\n",
       "    </tr>\n",
       "    <tr>\n",
       "      <th>1</th>\n",
       "      <td>1.0</td>\n",
       "      <td>shubhanshu mishra</td>\n",
       "    </tr>\n",
       "    <tr>\n",
       "      <th>2</th>\n",
       "      <td>2.0</td>\n",
       "      <td>gama delta</td>\n",
       "    </tr>\n",
       "    <tr>\n",
       "      <th>0</th>\n",
       "      <td>NaN</td>\n",
       "      <td>hello world</td>\n",
       "    </tr>\n",
       "  </tbody>\n",
       "</table>\n",
       "</div>"
      ],
      "text/plain": [
       "   Unnamed: 0               blog\n",
       "0         0.0          test blog\n",
       "1         1.0  shubhanshu mishra\n",
       "2         2.0         gama delta\n",
       "0         NaN        hello world"
      ]
     },
     "execution_count": 30,
     "metadata": {},
     "output_type": "execute_result"
    }
   ],
   "source": [
    "data1.append(data_frame)"
   ]
  },
  {
   "cell_type": "code",
   "execution_count": 17,
   "metadata": {},
   "outputs": [],
   "source": [
    "data_2 = open(\"counter.txt\", \"w\")\n",
    "data_2.write(\"2\")\n",
    "data_2.close()"
   ]
  },
  {
   "cell_type": "code",
   "execution_count": 12,
   "metadata": {},
   "outputs": [],
   "source": [
    "import os\n",
    "size_1 = os.path.getsize(\"personal_thoughts.csv\")"
   ]
  },
  {
   "cell_type": "code",
   "execution_count": 13,
   "metadata": {},
   "outputs": [
    {
     "data": {
      "text/plain": [
       "55"
      ]
     },
     "execution_count": 13,
     "metadata": {},
     "output_type": "execute_result"
    }
   ],
   "source": [
    "size_1 # this number is in bytes"
   ]
  },
  {
   "cell_type": "code",
   "execution_count": 4,
   "metadata": {},
   "outputs": [
    {
     "data": {
      "text/plain": [
       "['3']"
      ]
     },
     "execution_count": 4,
     "metadata": {},
     "output_type": "execute_result"
    }
   ],
   "source": [
    "count = open(\"counter.txt\", \"r\")\n",
    "count.readlines()"
   ]
  },
  {
   "cell_type": "code",
   "execution_count": 7,
   "metadata": {},
   "outputs": [],
   "source": [
    "import os\n",
    "def add_thought(thoughts):\n",
    "    count = int(open(\"counter.txt\", \"r\").readlines()[0])\n",
    "    # adding main logic\n",
    "    number_bytes = os.path.getsize(\"{}.csv\".format(count))\n",
    "    if(number_bytes < SIZE_LIMIT):\n",
    "        dataframe = pd.read_csv(\"{}.csv\".format(count))\n",
    "        dataframe = pd.concat([dataframe,pd.DataFrame([thoughts], columns =['blog'])],axis = 0)\n",
    "        # editing\n",
    "        x = list(dataframe.columns)\n",
    "        x.pop()\n",
    "        dataframe.drop(x, axis =1, inplace = True)\n",
    "        dataframe.to_csv(\"{}.csv\".format(count))\n",
    "        return dataframe\n",
    "    else:\n",
    "        # appending counter\n",
    "        file = open(\"counter.txt\", \"w\")\n",
    "        file.write(str(count+1))\n",
    "        file.close()\n",
    "        # creating new dataframe\n",
    "        dataframe = pd.DataFrame([thoughts], columns =['blog'])\n",
    "        x = list(dataframe.columns)\n",
    "        x.pop()\n",
    "        dataframe.drop(x, axis =1, inplace = True)\n",
    "        dataframe.to_csv(\"{}.csv\".format(count+1))\n",
    "        return dataframe\n",
    "\n",
    "\n"
   ]
  },
  {
   "cell_type": "code",
   "execution_count": 8,
   "metadata": {},
   "outputs": [
    {
     "data": {
      "text/html": [
       "<div>\n",
       "<style scoped>\n",
       "    .dataframe tbody tr th:only-of-type {\n",
       "        vertical-align: middle;\n",
       "    }\n",
       "\n",
       "    .dataframe tbody tr th {\n",
       "        vertical-align: top;\n",
       "    }\n",
       "\n",
       "    .dataframe thead th {\n",
       "        text-align: right;\n",
       "    }\n",
       "</style>\n",
       "<table border=\"1\" class=\"dataframe\">\n",
       "  <thead>\n",
       "    <tr style=\"text-align: right;\">\n",
       "      <th></th>\n",
       "      <th>blog</th>\n",
       "    </tr>\n",
       "  </thead>\n",
       "  <tbody>\n",
       "    <tr>\n",
       "      <th>0</th>\n",
       "      <td>hello world</td>\n",
       "    </tr>\n",
       "  </tbody>\n",
       "</table>\n",
       "</div>"
      ],
      "text/plain": [
       "          blog\n",
       "0  hello world"
      ]
     },
     "execution_count": 8,
     "metadata": {},
     "output_type": "execute_result"
    }
   ],
   "source": [
    "add_thought(\"hello world\")"
   ]
  },
  {
   "cell_type": "code",
   "execution_count": 27,
   "metadata": {},
   "outputs": [],
   "source": [
    "def add_project(project_name,image_link, project_link, description):\n",
    "    count = int(open(\"counter_2.txt\", \"r\").readlines()[0])\n",
    "    # adding main logic\n",
    "    number_bytes = os.path.getsize(\"project{}.csv\".format(count))\n",
    "    if(number_bytes < SIZE_LIMIT):\n",
    "        dataframe = pd.read_csv(\"project{}.csv\".format(count))\n",
    "        dataframe = pd.concat([dataframe,pd.DataFrame([[project_name,image_link, project_link, description]],\n",
    "                                                       columns =['project_name','image_link', 'project_link', 'description'])],\n",
    "                                                       axis = 0,ignore_index=True)\n",
    "        # editing\n",
    "        print(dataframe)\n",
    "        x = list(dataframe.columns)\n",
    "        for i in range(4):\n",
    "            x.pop()\n",
    "        dataframe.drop(x, axis =1, inplace = True)\n",
    "        dataframe.to_csv(\"project{}.csv\".format(count))\n",
    "        return dataframe\n",
    "    else:\n",
    "        # appending counter\n",
    "        file = open(\"counter_2.txt\", \"w\")\n",
    "        file.write(str(count+1))\n",
    "        file.close()\n",
    "        # creating new dataframe\n",
    "        dataframe = pd.DataFrame([[project_name,image_link, project_link, description]], \n",
    "                                 columns =['project_name','image_link', 'project_link', 'description'],\n",
    "                                   axis = 0, ignore_index = True)\n",
    "        print(dataframe)\n",
    "        x = list(dataframe.columns)\n",
    "        for i in range(4):\n",
    "            x.pop()\n",
    "        dataframe.drop(x, axis =1, inplace = True)\n",
    "        dataframe.to_csv(\"project{}.csv\".format(count+1))\n",
    "        return dataframe"
   ]
  },
  {
   "cell_type": "code",
   "execution_count": 30,
   "metadata": {},
   "outputs": [
    {
     "name": "stdout",
     "output_type": "stream",
     "text": [
      "   Unnamed: 0  description project_name   image_link project_link\n",
      "0         0.0  hello world  hello world  hello world  hello world\n",
      "1         1.0  hello world  hello world  hello world  hello world\n",
      "2         NaN  hello world  hello world  hello world  hello world\n"
     ]
    },
    {
     "data": {
      "text/html": [
       "<div>\n",
       "<style scoped>\n",
       "    .dataframe tbody tr th:only-of-type {\n",
       "        vertical-align: middle;\n",
       "    }\n",
       "\n",
       "    .dataframe tbody tr th {\n",
       "        vertical-align: top;\n",
       "    }\n",
       "\n",
       "    .dataframe thead th {\n",
       "        text-align: right;\n",
       "    }\n",
       "</style>\n",
       "<table border=\"1\" class=\"dataframe\">\n",
       "  <thead>\n",
       "    <tr style=\"text-align: right;\">\n",
       "      <th></th>\n",
       "      <th>description</th>\n",
       "      <th>project_name</th>\n",
       "      <th>image_link</th>\n",
       "      <th>project_link</th>\n",
       "    </tr>\n",
       "  </thead>\n",
       "  <tbody>\n",
       "    <tr>\n",
       "      <th>0</th>\n",
       "      <td>hello world</td>\n",
       "      <td>hello world</td>\n",
       "      <td>hello world</td>\n",
       "      <td>hello world</td>\n",
       "    </tr>\n",
       "    <tr>\n",
       "      <th>1</th>\n",
       "      <td>hello world</td>\n",
       "      <td>hello world</td>\n",
       "      <td>hello world</td>\n",
       "      <td>hello world</td>\n",
       "    </tr>\n",
       "    <tr>\n",
       "      <th>2</th>\n",
       "      <td>hello world</td>\n",
       "      <td>hello world</td>\n",
       "      <td>hello world</td>\n",
       "      <td>hello world</td>\n",
       "    </tr>\n",
       "  </tbody>\n",
       "</table>\n",
       "</div>"
      ],
      "text/plain": [
       "   description project_name   image_link project_link\n",
       "0  hello world  hello world  hello world  hello world\n",
       "1  hello world  hello world  hello world  hello world\n",
       "2  hello world  hello world  hello world  hello world"
      ]
     },
     "execution_count": 30,
     "metadata": {},
     "output_type": "execute_result"
    }
   ],
   "source": [
    "add_project(\"hello world\",\"hello world\",\"hello world\",\"hello world\")"
   ]
  },
  {
   "cell_type": "code",
   "execution_count": 32,
   "metadata": {},
   "outputs": [
    {
     "data": {
      "text/html": [
       "<div>\n",
       "<style scoped>\n",
       "    .dataframe tbody tr th:only-of-type {\n",
       "        vertical-align: middle;\n",
       "    }\n",
       "\n",
       "    .dataframe tbody tr th {\n",
       "        vertical-align: top;\n",
       "    }\n",
       "\n",
       "    .dataframe thead th {\n",
       "        text-align: right;\n",
       "    }\n",
       "</style>\n",
       "<table border=\"1\" class=\"dataframe\">\n",
       "  <thead>\n",
       "    <tr style=\"text-align: right;\">\n",
       "      <th></th>\n",
       "      <th>Unnamed: 0</th>\n",
       "      <th>blog</th>\n",
       "    </tr>\n",
       "  </thead>\n",
       "  <tbody>\n",
       "    <tr>\n",
       "      <th>0</th>\n",
       "      <td>0</td>\n",
       "      <td>testing one</td>\n",
       "    </tr>\n",
       "  </tbody>\n",
       "</table>\n",
       "</div>"
      ],
      "text/plain": [
       "   Unnamed: 0         blog\n",
       "0           0  testing one"
      ]
     },
     "execution_count": 32,
     "metadata": {},
     "output_type": "execute_result"
    }
   ],
   "source": [
    "# deleting blog\n",
    "data_1 = pd.read_csv(\"1.csv\")\n",
    "data_1"
   ]
  },
  {
   "cell_type": "code",
   "execution_count": null,
   "metadata": {},
   "outputs": [],
   "source": []
  }
 ],
 "metadata": {
  "kernelspec": {
   "display_name": "data_science",
   "language": "python",
   "name": "python3"
  },
  "language_info": {
   "codemirror_mode": {
    "name": "ipython",
    "version": 3
   },
   "file_extension": ".py",
   "mimetype": "text/x-python",
   "name": "python",
   "nbconvert_exporter": "python",
   "pygments_lexer": "ipython3",
   "version": "3.10.9"
  },
  "orig_nbformat": 4
 },
 "nbformat": 4,
 "nbformat_minor": 2
}
